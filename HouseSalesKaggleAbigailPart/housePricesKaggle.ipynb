{
 "cells": [
  {
   "cell_type": "code",
   "execution_count": 34,
   "metadata": {},
   "outputs": [
    {
     "name": "stdout",
     "output_type": "stream",
     "text": [
      "Requirement already satisfied: numpy in /Library/Frameworks/Python.framework/Versions/3.13/lib/python3.13/site-packages (2.1.3)\n",
      "\n",
      "\u001b[1m[\u001b[0m\u001b[34;49mnotice\u001b[0m\u001b[1;39;49m]\u001b[0m\u001b[39;49m A new release of pip is available: \u001b[0m\u001b[31;49m24.2\u001b[0m\u001b[39;49m -> \u001b[0m\u001b[32;49m24.3.1\u001b[0m\n",
      "\u001b[1m[\u001b[0m\u001b[34;49mnotice\u001b[0m\u001b[1;39;49m]\u001b[0m\u001b[39;49m To update, run: \u001b[0m\u001b[32;49mpip3 install --upgrade pip\u001b[0m\n",
      "Note: you may need to restart the kernel to use updated packages.\n",
      "Requirement already satisfied: pandas in /Library/Frameworks/Python.framework/Versions/3.13/lib/python3.13/site-packages (2.2.3)\n",
      "Requirement already satisfied: numpy>=1.26.0 in /Library/Frameworks/Python.framework/Versions/3.13/lib/python3.13/site-packages (from pandas) (2.1.3)\n",
      "Requirement already satisfied: python-dateutil>=2.8.2 in /Users/abigailpinkus/Library/Python/3.13/lib/python/site-packages (from pandas) (2.9.0.post0)\n",
      "Requirement already satisfied: pytz>=2020.1 in /Library/Frameworks/Python.framework/Versions/3.13/lib/python3.13/site-packages (from pandas) (2024.2)\n",
      "Requirement already satisfied: tzdata>=2022.7 in /Library/Frameworks/Python.framework/Versions/3.13/lib/python3.13/site-packages (from pandas) (2024.2)\n",
      "Requirement already satisfied: six>=1.5 in /Users/abigailpinkus/Library/Python/3.13/lib/python/site-packages (from python-dateutil>=2.8.2->pandas) (1.16.0)\n",
      "\n",
      "\u001b[1m[\u001b[0m\u001b[34;49mnotice\u001b[0m\u001b[1;39;49m]\u001b[0m\u001b[39;49m A new release of pip is available: \u001b[0m\u001b[31;49m24.2\u001b[0m\u001b[39;49m -> \u001b[0m\u001b[32;49m24.3.1\u001b[0m\n",
      "\u001b[1m[\u001b[0m\u001b[34;49mnotice\u001b[0m\u001b[1;39;49m]\u001b[0m\u001b[39;49m To update, run: \u001b[0m\u001b[32;49mpip3 install --upgrade pip\u001b[0m\n",
      "Note: you may need to restart the kernel to use updated packages.\n",
      "Collecting scikit-learn\n",
      "  Downloading scikit_learn-1.5.2-cp313-cp313-macosx_10_13_x86_64.whl.metadata (13 kB)\n",
      "Requirement already satisfied: numpy>=1.19.5 in /Library/Frameworks/Python.framework/Versions/3.13/lib/python3.13/site-packages (from scikit-learn) (2.1.3)\n",
      "Collecting scipy>=1.6.0 (from scikit-learn)\n",
      "  Downloading scipy-1.14.1-cp313-cp313-macosx_10_13_x86_64.whl.metadata (60 kB)\n",
      "Collecting joblib>=1.2.0 (from scikit-learn)\n",
      "  Downloading joblib-1.4.2-py3-none-any.whl.metadata (5.4 kB)\n",
      "Collecting threadpoolctl>=3.1.0 (from scikit-learn)\n",
      "  Downloading threadpoolctl-3.5.0-py3-none-any.whl.metadata (13 kB)\n",
      "Downloading scikit_learn-1.5.2-cp313-cp313-macosx_10_13_x86_64.whl (12.0 MB)\n",
      "\u001b[2K   \u001b[90m━━━━━━━━━━━━━━━━━━━━━━━━━━━━━━━━━━━━━━━━\u001b[0m \u001b[32m12.0/12.0 MB\u001b[0m \u001b[31m24.2 MB/s\u001b[0m eta \u001b[36m0:00:00\u001b[0m \u001b[36m0:00:01\u001b[0m\n",
      "\u001b[?25hDownloading joblib-1.4.2-py3-none-any.whl (301 kB)\n",
      "Downloading scipy-1.14.1-cp313-cp313-macosx_10_13_x86_64.whl (39.1 MB)\n",
      "\u001b[2K   \u001b[90m━━━━━━━━━━━━━━━━━━━━━━━━━━━━━━━━━━━━━━━━\u001b[0m \u001b[32m39.1/39.1 MB\u001b[0m \u001b[31m37.7 MB/s\u001b[0m eta \u001b[36m0:00:00\u001b[0m00:01\u001b[0m00:01\u001b[0m\n",
      "\u001b[?25hDownloading threadpoolctl-3.5.0-py3-none-any.whl (18 kB)\n",
      "Installing collected packages: threadpoolctl, scipy, joblib, scikit-learn\n",
      "Successfully installed joblib-1.4.2 scikit-learn-1.5.2 scipy-1.14.1 threadpoolctl-3.5.0\n",
      "\n",
      "\u001b[1m[\u001b[0m\u001b[34;49mnotice\u001b[0m\u001b[1;39;49m]\u001b[0m\u001b[39;49m A new release of pip is available: \u001b[0m\u001b[31;49m24.2\u001b[0m\u001b[39;49m -> \u001b[0m\u001b[32;49m24.3.1\u001b[0m\n",
      "\u001b[1m[\u001b[0m\u001b[34;49mnotice\u001b[0m\u001b[1;39;49m]\u001b[0m\u001b[39;49m To update, run: \u001b[0m\u001b[32;49mpip3 install --upgrade pip\u001b[0m\n",
      "Note: you may need to restart the kernel to use updated packages.\n"
     ]
    }
   ],
   "source": [
    "%pip install numpy\n",
    "%pip install pandas\n",
    "%pip install scikit-learn"
   ]
  },
  {
   "cell_type": "code",
   "execution_count": 36,
   "metadata": {},
   "outputs": [],
   "source": [
    "from sklearn.experimental import enable_iterative_imputer\n",
    "from sklearn.pipeline import Pipeline\n",
    "from sklearn.impute import IterativeImputer\n",
    "import numpy as np #linear algebra\n",
    "import pandas as pd # data processing, CSV file read\n",
    "\n",
    "# Input data files are available in read-only from train.csv\n",
    "train = pd.read_csv('train.csv')\n",
    "train = train.drop('Id', axis=1)\n",
    "test = pd.read_csv('test.csv')\n",
    "test_ids = test.pop('Id')"
   ]
  },
  {
   "cell_type": "code",
   "execution_count": 37,
   "metadata": {},
   "outputs": [
    {
     "name": "stdout",
     "output_type": "stream",
     "text": [
      "   SalePrice  qual_gr  qual_gar\n",
      "0     208500    11970        14\n",
      "1     181500     7572        12\n",
      "2     223500    12502        14\n",
      "3     140000    12019        21\n",
      "4     250000    17584        24\n"
     ]
    }
   ],
   "source": [
    "# Fix some NAs\n",
    "train.fillna({'LotFrontage': 0}, inplace=True) # no amount of street connected to the property\n",
    "train.fillna({'MiscVal': 0}, inplace=True) # no miscellaneous features\n",
    "\n",
    "# Numerical features\n",
    "train['year_qual'] = train['YearBuilt'] * train['OverallQual'] # overall condition\n",
    "train['year_r_qual'] = train['YearRemodAdd'] * train['OverallQual'] # quality x remodel\n",
    "train['qual_bsmt'] = train['OverallQual'] * train['TotalBsmtSF'] # quality x basement\n",
    "train['qual_fl'] = train['OverallQual'] * train['1stFlrSF'] # quality x first floor\n",
    "train['qual_gr'] = train['OverallQual'] * train['GrLivArea'] # quality x ground floor\n",
    "train['qual_gar'] = train['OverallQual'] * train['GarageArea'] # quality x garage\n",
    "train['qual_bath'] = train['OverallQual'] * train['FullBath'] # quality x bathrooms\n",
    "train['qual_bed'] = train['OverallQual'] * train['BedroomAbvGr'] # quality x bedrooms\n",
    "train['qual_kit'] = train['OverallQual'] * train['KitchenAbvGr'] # quality x kitchens\n",
    "train['qual_fire'] = train['OverallQual'] * train['Fireplaces'] # quality x fireplaces\n",
    "train['qual_gar'] = train['OverallQual'] * train['GarageCars'] # quality x garage cars\n",
    "train['qual_wd'] = train['OverallQual'] * train['WoodDeckSF'] # quality x wood deck\n",
    "train['qual_op'] = train['OverallQual'] * train['OpenPorchSF'] # quality x open porch\n",
    "train['qual_en'] = train['OverallQual'] * train['EnclosedPorch'] # quality x enclosed porch\n",
    "train['qual_3s'] = train['OverallQual'] * train['3SsnPorch'] # quality x 3 season porch\n",
    "train['qual_scr'] = train['OverallQual'] * train['ScreenPorch'] # quality x screen porch\n",
    "train['qual_pool'] = train['OverallQual'] * train['PoolArea'] # quality x pool area\n",
    "train['qual_ms'] = train['OverallQual'] * train['MiscVal'] # quality x miscellaneous value # Not needed\n",
    "train['qual_mo'] = train['OverallQual'] * train['MoSold'] # quality x month sold\n",
    "train['qual_yr'] = train['OverallQual'] * train['YrSold'] # quality x year sold\n",
    "\n",
    "numerical_features = train.select_dtypes(include=[np.number])\n",
    "\n",
    "# Calculate the correlation matrix\n",
    "correlation_matrix = numerical_features.corr()\n",
    "# Set a threshold for high correlation\n",
    "threshold = 0.8\n",
    "# Extract highly correlated features\n",
    "high_corr_features = correlation_matrix.index[abs(correlation_matrix[\"SalePrice\"]) > threshold].tolist()\n",
    "# Combine these features into a new DataFrame\n",
    "high_corr_data = train[high_corr_features]\n",
    "print(high_corr_data.head())\n",
    "\n"
   ]
  },
  {
   "cell_type": "code",
   "execution_count": 38,
   "metadata": {},
   "outputs": [],
   "source": [
    "trainF = train.pop('SalePrice')\n",
    "combinedSet = pd.concat([train, test], axis=0, ignore_index=True)\n",
    "#categoricalCols = combinedSet.select_dtypes(include=['object']).columns.tolist()\n",
    "numericalCols = combinedSet.select_dtypes(include=['number']).columns.tolist()\n",
    "OTS = len(train)\n",
    "trainF = combinedSet.iloc[:OTS]\n",
    "test = combinedSet.iloc[OTS:]"
   ]
  },
  {
   "cell_type": "code",
   "execution_count": 39,
   "metadata": {},
   "outputs": [],
   "source": [
    "numerical_transformer = Pipeline(steps=[\n",
    "    ('imputer', IterativeImputer(random_state=0))\n",
    "])"
   ]
  }
 ],
 "metadata": {
  "kernelspec": {
   "display_name": "Python 3",
   "language": "python",
   "name": "python3"
  },
  "language_info": {
   "codemirror_mode": {
    "name": "ipython",
    "version": 3
   },
   "file_extension": ".py",
   "mimetype": "text/x-python",
   "name": "python",
   "nbconvert_exporter": "python",
   "pygments_lexer": "ipython3",
   "version": "3.13.0"
  }
 },
 "nbformat": 4,
 "nbformat_minor": 2
}
