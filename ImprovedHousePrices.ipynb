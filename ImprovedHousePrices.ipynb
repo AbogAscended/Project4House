{
 "cells": [
  {
   "cell_type": "code",
   "id": "initial_id",
   "metadata": {
    "collapsed": true,
    "ExecuteTime": {
     "end_time": "2024-11-16T02:32:28.138636Z",
     "start_time": "2024-11-16T02:32:27.586403Z"
    }
   },
   "source": [
    "import numpy as np\n",
    "import pandas as pd\n",
    "from sklearn.pipeline import Pipeline\n",
    "from sklearn.compose import ColumnTransformer\n",
    "from sklearn.impute import SimpleImputer, KNNImputer\n",
    "from sklearn.experimental import enable_iterative_imputer\n",
    "\n",
    "from sklearn.preprocessing import OneHotEncoder, RobustScaler, StandardScaler\n",
    "from sklearn.model_selection import train_test_split\n",
    "from xgboost import XGBRegressor\n",
    "from objectiveOpt import studier"
   ],
   "outputs": [],
   "execution_count": 1
  },
  {
   "metadata": {
    "ExecuteTime": {
     "end_time": "2024-11-16T02:32:28.153079Z",
     "start_time": "2024-11-16T02:32:28.140291Z"
    }
   },
   "cell_type": "code",
   "source": [
    "# Load datasets\n",
    "train = pd.read_csv('data/train.csv')\n",
    "train = train.drop('Id', axis=1)\n",
    "test = pd.read_csv('data/test.csv')\n",
    "test_ids = test.pop('Id')"
   ],
   "id": "c9018104d67ed9ad",
   "outputs": [],
   "execution_count": 2
  },
  {
   "metadata": {
    "ExecuteTime": {
     "end_time": "2024-11-16T02:32:28.184080Z",
     "start_time": "2024-11-16T02:32:28.182551Z"
    }
   },
   "cell_type": "code",
   "source": [
    "# Fill missing values for specific columns\n",
    "train.fillna({'LotFrontage': 0, 'MiscVal': 0}, inplace=True)"
   ],
   "id": "2bd18d7bc72421a8",
   "outputs": [],
   "execution_count": 3
  },
  {
   "metadata": {
    "ExecuteTime": {
     "end_time": "2024-11-16T02:32:28.236889Z",
     "start_time": "2024-11-16T02:32:28.225489Z"
    }
   },
   "cell_type": "code",
   "source": [
    "# Feature engineering\n",
    "train['year_qual'] = train['YearBuilt'] * train['OverallQual']\n",
    "train['year_r_qual'] = train['YearRemodAdd'] * train['OverallQual']\n",
    "train['qual_bsmt'] = train['OverallQual'] * train['TotalBsmtSF']\n",
    "train['qual_fl'] = train['OverallQual'] * train['1stFlrSF']\n",
    "train['qual_gr'] = train['OverallQual'] * train['GrLivArea']\n",
    "train['qual_gar_area'] = train['OverallQual'] * train['GarageArea']\n",
    "train['qual_gar_cars'] = train['OverallQual'] * train['GarageCars']\n",
    "train['qual_bath'] = train['OverallQual'] * train['FullBath']\n",
    "train['qual_bed'] = train['OverallQual'] * train['BedroomAbvGr']\n",
    "train['qual_kit'] = train['OverallQual'] * train['KitchenAbvGr']\n",
    "train['qual_fire'] = train['OverallQual'] * train['Fireplaces']\n",
    "train['qual_wd'] = train['OverallQual'] * train['WoodDeckSF']\n",
    "train['qual_op'] = train['OverallQual'] * train['OpenPorchSF']\n",
    "train['qual_en'] = train['OverallQual'] * train['EnclosedPorch']\n",
    "train['qual_3s'] = train['OverallQual'] * train['3SsnPorch']\n",
    "train['qual_scr'] = train['OverallQual'] * train['ScreenPorch']\n",
    "train['qual_pool'] = train['OverallQual'] * train['PoolArea']\n",
    "train['qual_mo'] = train['OverallQual'] * train['MoSold']\n",
    "train['qual_yr'] = train['OverallQual'] * train['YrSold']\n",
    "train['total_sqft'] = train['GrLivArea'] + train['TotalBsmtSF']\n",
    "train['total_bathrooms'] = train['FullBath'] + (0.5 * train['HalfBath']) + train['BsmtFullBath'] + (0.5 * train['BsmtHalfBath'])\n",
    "train['house_age'] = train['YrSold'] - train['YearBuilt']\n",
    "train['remod_age'] = train['YrSold'] - train['YearRemodAdd']\n",
    "train['price_per_sqft'] = train['total_sqft'] * train['OverallQual']\n",
    "train['garage_age'] = train['GarageYrBlt'] - train['YearBuilt']\n",
    "train['total_porch'] = train['OpenPorchSF'] + train['EnclosedPorch'] + train['3SsnPorch'] + train['ScreenPorch']\n",
    "train['has_pool'] = (train['PoolArea'] > 0).astype(int)\n",
    "train['has_garage'] = (train['GarageArea'] > 0).astype(int)\n",
    "train['has_basement'] = (train['TotalBsmtSF'] > 0).astype(int)\n",
    "train['total_area'] = train['total_sqft'] + train['total_porch']\n",
    "train['quality_score'] = train['OverallQual'] * train['OverallCond']\n",
    "\n",
    "test['year_qual'] = test['YearBuilt'] * test['OverallQual']\n",
    "test['year_r_qual'] = test['YearRemodAdd'] * test['OverallQual']\n",
    "test['qual_bsmt'] = test['OverallQual'] * test['TotalBsmtSF']\n",
    "test['qual_fl'] = test['OverallQual'] * test['1stFlrSF']\n",
    "test['qual_gr'] = test['OverallQual'] * test['GrLivArea']\n",
    "test['qual_gar_area'] = test['OverallQual'] * test['GarageArea']\n",
    "test['qual_gar_cars'] = test['OverallQual'] * test['GarageCars']\n",
    "test['qual_bath'] = test['OverallQual'] * test['FullBath']\n",
    "test['qual_bed'] = test['OverallQual'] * test['BedroomAbvGr']\n",
    "test['qual_kit'] = test['OverallQual'] * test['KitchenAbvGr']\n",
    "test['qual_fire'] = test['OverallQual'] * test['Fireplaces']\n",
    "test['qual_wd'] = test['OverallQual'] * test['WoodDeckSF']\n",
    "test['qual_op'] = test['OverallQual'] * test['OpenPorchSF']\n",
    "test['qual_en'] = test['OverallQual'] * test['EnclosedPorch']\n",
    "test['qual_3s'] = test['OverallQual'] * test['3SsnPorch']\n",
    "test['qual_scr'] = test['OverallQual'] * test['ScreenPorch']\n",
    "test['qual_pool'] = test['OverallQual'] * test['PoolArea']\n",
    "test['qual_mo'] = test['OverallQual'] * test['MoSold']\n",
    "test['qual_yr'] = test['OverallQual'] * test['YrSold']\n",
    "test['total_sqft'] = test['GrLivArea'] + test['TotalBsmtSF']\n",
    "test['total_bathrooms'] = test['FullBath'] + (0.5 * test['HalfBath']) + test['BsmtFullBath'] + (0.5 * test['BsmtHalfBath'])\n",
    "test['house_age'] = test['YrSold'] - test['YearBuilt']\n",
    "test['remod_age'] = test['YrSold'] - test['YearRemodAdd']\n",
    "test['price_per_sqft'] = test['total_sqft'] * test['OverallQual']\n",
    "test['garage_age'] = test['GarageYrBlt'] - test['YearBuilt']\n",
    "test['total_porch'] = test['OpenPorchSF'] + test['EnclosedPorch'] + test['3SsnPorch'] + test['ScreenPorch']\n",
    "test['has_pool'] = (test['PoolArea'] > 0).astype(int)\n",
    "test['has_garage'] = (test['GarageArea'] > 0).astype(int)\n",
    "test['has_basement'] = (test['TotalBsmtSF'] > 0).astype(int)\n",
    "test['total_area'] = test['total_sqft'] + test['total_porch']\n",
    "test['quality_score'] = test['OverallQual'] * test['OverallCond']"
   ],
   "id": "df9533c28fc1066c",
   "outputs": [],
   "execution_count": 4
  },
  {
   "metadata": {
    "ExecuteTime": {
     "end_time": "2024-11-16T02:32:28.274143Z",
     "start_time": "2024-11-16T02:32:28.271335Z"
    }
   },
   "cell_type": "code",
   "source": [
    "# Separate target variable and concatenate datasets for imputation\n",
    "train_target = train.pop('SalePrice')\n",
    "train_target = np.log1p(train_target)\n",
    "combinedSet = pd.concat([train, test], axis=0, ignore_index=True)"
   ],
   "id": "a42497329e6337fe",
   "outputs": [],
   "execution_count": 5
  },
  {
   "metadata": {
    "ExecuteTime": {
     "end_time": "2024-11-16T02:32:28.318554Z",
     "start_time": "2024-11-16T02:32:28.314320Z"
    }
   },
   "cell_type": "code",
   "source": [
    "# Separate transformed data back into train and test\n",
    "train = combinedSet.iloc[:len(train_target)].copy()\n",
    "test = combinedSet.iloc[len(train_target):].copy()"
   ],
   "id": "df54f57fc186f972",
   "outputs": [],
   "execution_count": 6
  },
  {
   "metadata": {
    "ExecuteTime": {
     "end_time": "2024-11-16T02:32:28.360144Z",
     "start_time": "2024-11-16T02:32:28.356434Z"
    }
   },
   "cell_type": "code",
   "source": [
    "# Select categorical and numerical columns\n",
    "categorical_cols = combinedSet.select_dtypes(include=['object']).columns.tolist()\n",
    "numerical_cols = combinedSet.select_dtypes(include=['number']).columns.tolist()"
   ],
   "id": "1ee22b01d0fba7c9",
   "outputs": [],
   "execution_count": 7
  },
  {
   "metadata": {
    "ExecuteTime": {
     "end_time": "2024-11-16T02:32:28.400652Z",
     "start_time": "2024-11-16T02:32:28.399295Z"
    }
   },
   "cell_type": "code",
   "source": [
    "# Define the transformers\n",
    "numerical_transformer = Pipeline(steps=[\n",
    "    ('imputer', SimpleImputer(strategy='median')),\n",
    "    ('scaler', StandardScaler())\n",
    "])\n",
    "categorical_transformer = Pipeline(steps=[\n",
    "    ('imputer', SimpleImputer(strategy='constant', fill_value='missing')),\n",
    "    ('encoder',  OneHotEncoder(handle_unknown='ignore', sparse_output=False))\n",
    "])"
   ],
   "id": "ec7e38fa770959ed",
   "outputs": [],
   "execution_count": 8
  },
  {
   "metadata": {
    "ExecuteTime": {
     "end_time": "2024-11-16T02:32:28.443840Z",
     "start_time": "2024-11-16T02:32:28.442619Z"
    }
   },
   "cell_type": "code",
   "source": [
    "# Combine transformers into a preprocessor\n",
    "preprocessor = ColumnTransformer(\n",
    "    transformers=[\n",
    "        ('num', numerical_transformer, numerical_cols),\n",
    "        ('cat', categorical_transformer, categorical_cols)\n",
    "    ]\n",
    ")"
   ],
   "id": "fb2722ad6db7b9a3",
   "outputs": [],
   "execution_count": 9
  },
  {
   "metadata": {
    "ExecuteTime": {
     "end_time": "2024-11-16T02:32:28.514992Z",
     "start_time": "2024-11-16T02:32:28.486350Z"
    }
   },
   "cell_type": "code",
   "source": [
    "# Apply the preprocessor to the data\n",
    "train_processed = preprocessor.fit_transform(train)\n",
    "test_processed = preprocessor.transform(test)"
   ],
   "id": "ac49dc94319a6ff5",
   "outputs": [],
   "execution_count": 10
  },
  {
   "metadata": {
    "ExecuteTime": {
     "end_time": "2024-11-16T02:32:28.531001Z",
     "start_time": "2024-11-16T02:32:28.529289Z"
    }
   },
   "cell_type": "code",
   "source": [
    "# Split processed training data for validation\n",
    "X_train, X_valid, y_train, y_valid = train_test_split(train_processed, train_target, test_size=0.2, random_state=42)"
   ],
   "id": "12cb23da176a8a58",
   "outputs": [],
   "execution_count": 11
  },
  {
   "metadata": {
    "jupyter": {
     "is_executing": true
    },
    "ExecuteTime": {
     "start_time": "2024-11-16T02:32:28.571283Z"
    }
   },
   "cell_type": "code",
   "source": "params, value = studier(500)",
   "id": "a39883fd8bd62202",
   "outputs": [
    {
     "name": "stderr",
     "output_type": "stream",
     "text": [
      "[I 2024-11-15 18:32:28,571] A new study created in memory with name: We the best house\n"
     ]
    },
    {
     "data": {
      "text/plain": [
       "  0%|          | 0/500 [00:00<?, ?it/s]"
      ],
      "application/vnd.jupyter.widget-view+json": {
       "version_major": 2,
       "version_minor": 0,
       "model_id": "cbac6103449c423182d95753b5f1c25e"
      }
     },
     "metadata": {},
     "output_type": "display_data"
    },
    {
     "name": "stdout",
     "output_type": "stream",
     "text": [
      "[I 2024-11-15 18:32:29,483] Trial 0 finished with value: 0.1496005525608685 and parameters: {'max_depth': 5, 'min_child_weight': 4, 'gamma': 0.8449471207585706, 'reg_lambda': 1.8728360393502075, 'reg_alpha': 0.10634123314246335, 'subsample': 0.7975942942635312, 'colsample_bytree': 0.7856388186976453, 'learning_rate': 0.0436178433796284}. Best is trial 0 with value: 0.1496005525608685.\n",
      "[I 2024-11-15 18:32:30,860] Trial 1 finished with value: 0.14178373716320952 and parameters: {'max_depth': 5, 'min_child_weight': 6, 'gamma': 0.42877377032027, 'reg_lambda': 1.1288767934028132, 'reg_alpha': 0.07273239544390298, 'subsample': 0.8369114718212987, 'colsample_bytree': 0.7280730210282248, 'learning_rate': 0.028414634063039845}. Best is trial 1 with value: 0.14178373716320952.\n",
      "[I 2024-11-15 18:32:32,293] Trial 2 finished with value: 0.1521579982588804 and parameters: {'max_depth': 5, 'min_child_weight': 5, 'gamma': 0.944713980937543, 'reg_lambda': 3.0351778545075385, 'reg_alpha': 0.13483535834647298, 'subsample': 0.8672571177593563, 'colsample_bytree': 0.8953475182888944, 'learning_rate': 0.0196687258043025}. Best is trial 1 with value: 0.14178373716320952.\n",
      "[I 2024-11-15 18:32:33,822] Trial 3 finished with value: 0.15070779435253606 and parameters: {'max_depth': 3, 'min_child_weight': 7, 'gamma': 0.9196999309777755, 'reg_lambda': 2.6448906560362566, 'reg_alpha': 0.03910571531426199, 'subsample': 0.8427572033937982, 'colsample_bytree': 0.8431162999832733, 'learning_rate': 0.016968399592512676}. Best is trial 1 with value: 0.14178373716320952.\n",
      "[I 2024-11-15 18:32:34,622] Trial 4 finished with value: 0.14672347370661526 and parameters: {'max_depth': 3, 'min_child_weight': 6, 'gamma': 0.6084494600599986, 'reg_lambda': 2.472344087780041, 'reg_alpha': 0.296143017206706, 'subsample': 0.8914044616684175, 'colsample_bytree': 0.8946547545068426, 'learning_rate': 0.04952058937641851}. Best is trial 1 with value: 0.14178373716320952.\n",
      "[I 2024-11-15 18:32:35,713] Trial 5 finished with value: 0.15132024694812587 and parameters: {'max_depth': 3, 'min_child_weight': 6, 'gamma': 0.9097346155842172, 'reg_lambda': 2.2695859618867837, 'reg_alpha': 0.19634504626739713, 'subsample': 0.867220898064712, 'colsample_bytree': 0.8088884612283203, 'learning_rate': 0.026471763709387038}. Best is trial 1 with value: 0.14178373716320952.\n",
      "[I 2024-11-15 18:32:37,696] Trial 6 finished with value: 0.1453392312720936 and parameters: {'max_depth': 5, 'min_child_weight': 3, 'gamma': 0.5692588101800682, 'reg_lambda': 1.69241213697918, 'reg_alpha': 0.4279280486775735, 'subsample': 0.789444213100562, 'colsample_bytree': 0.8185174483160729, 'learning_rate': 0.018181026925853556}. Best is trial 1 with value: 0.14178373716320952.\n",
      "[I 2024-11-15 18:32:39,059] Trial 7 finished with value: 0.14657424382234158 and parameters: {'max_depth': 4, 'min_child_weight': 6, 'gamma': 0.6341808066890245, 'reg_lambda': 1.3860688170741349, 'reg_alpha': 0.29553651673557946, 'subsample': 0.8472637263108584, 'colsample_bytree': 0.8983313345253077, 'learning_rate': 0.027205239266161745}. Best is trial 1 with value: 0.14178373716320952.\n",
      "[I 2024-11-15 18:32:41,360] Trial 8 finished with value: 0.14370529904234824 and parameters: {'max_depth': 5, 'min_child_weight': 6, 'gamma': 0.47071361669566236, 'reg_lambda': 4.78646701610638, 'reg_alpha': 0.4284863407925839, 'subsample': 0.738809934367621, 'colsample_bytree': 0.7240137314221828, 'learning_rate': 0.016191203842195318}. Best is trial 1 with value: 0.14178373716320952.\n",
      "[I 2024-11-15 18:32:42,518] Trial 9 finished with value: 0.13750370567460898 and parameters: {'max_depth': 5, 'min_child_weight': 6, 'gamma': 0.19447861793498894, 'reg_lambda': 1.2788177493827355, 'reg_alpha': 0.39220809591939504, 'subsample': 0.76450108460737, 'colsample_bytree': 0.8465448803862714, 'learning_rate': 0.04995028696751162}. Best is trial 9 with value: 0.13750370567460898.\n",
      "[I 2024-11-15 18:32:43,901] Trial 10 finished with value: 0.134520972312916 and parameters: {'max_depth': 4, 'min_child_weight': 4, 'gamma': 0.13883587600678798, 'reg_lambda': 3.5013427147092817, 'reg_alpha': 0.4788160736631888, 'subsample': 0.7058343890389962, 'colsample_bytree': 0.8508559663658318, 'learning_rate': 0.038859631607460476}. Best is trial 10 with value: 0.134520972312916.\n",
      "[I 2024-11-15 18:32:45,293] Trial 11 finished with value: 0.13429008695953906 and parameters: {'max_depth': 4, 'min_child_weight': 4, 'gamma': 0.11115943790214462, 'reg_lambda': 3.6958007974103984, 'reg_alpha': 0.49977272868993916, 'subsample': 0.707001969582695, 'colsample_bytree': 0.8514480557134582, 'learning_rate': 0.038867311722653966}. Best is trial 11 with value: 0.13429008695953906.\n",
      "[I 2024-11-15 18:32:46,626] Trial 12 finished with value: 0.13388811427847327 and parameters: {'max_depth': 4, 'min_child_weight': 4, 'gamma': 0.10625501044222624, 'reg_lambda': 3.7205569996363175, 'reg_alpha': 0.49245555081461984, 'subsample': 0.7079406058146578, 'colsample_bytree': 0.8542334062610555, 'learning_rate': 0.03774465931472453}. Best is trial 12 with value: 0.13388811427847327.\n",
      "[I 2024-11-15 18:32:47,933] Trial 13 finished with value: 0.1397910523920883 and parameters: {'max_depth': 4, 'min_child_weight': 3, 'gamma': 0.29925018493590055, 'reg_lambda': 4.120140006443864, 'reg_alpha': 0.34871516501451444, 'subsample': 0.7001572003944723, 'colsample_bytree': 0.7719138988263546, 'learning_rate': 0.03474682459085882}. Best is trial 12 with value: 0.13388811427847327.\n",
      "[I 2024-11-15 18:32:49,167] Trial 14 finished with value: 0.13933145787621187 and parameters: {'max_depth': 4, 'min_child_weight': 4, 'gamma': 0.2731201718421159, 'reg_lambda': 3.8409131709114566, 'reg_alpha': 0.48216449758332663, 'subsample': 0.7346240670789631, 'colsample_bytree': 0.8646355927369288, 'learning_rate': 0.03773734055293315}. Best is trial 12 with value: 0.13388811427847327.\n",
      "[I 2024-11-15 18:32:50,568] Trial 15 finished with value: 0.1355453461881745 and parameters: {'max_depth': 4, 'min_child_weight': 5, 'gamma': 0.1363020242118137, 'reg_lambda': 4.444082084185949, 'reg_alpha': 0.4998038601841797, 'subsample': 0.7317012196027147, 'colsample_bytree': 0.8692990628982746, 'learning_rate': 0.043621514942355694}. Best is trial 12 with value: 0.13388811427847327.\n",
      "[I 2024-11-15 18:32:51,942] Trial 16 finished with value: 0.14006294671088465 and parameters: {'max_depth': 4, 'min_child_weight': 4, 'gamma': 0.3315539638705267, 'reg_lambda': 3.4335153990931806, 'reg_alpha': 0.375803579014254, 'subsample': 0.7612054753812713, 'colsample_bytree': 0.8211573742222819, 'learning_rate': 0.03497458636837397}. Best is trial 12 with value: 0.13388811427847327.\n",
      "[I 2024-11-15 18:32:52,828] Trial 17 finished with value: 0.14847001394742257 and parameters: {'max_depth': 3, 'min_child_weight': 3, 'gamma': 0.7571073705161644, 'reg_lambda': 3.4626997387073692, 'reg_alpha': 0.2043703522599678, 'subsample': 0.7175218408353007, 'colsample_bytree': 0.7746620513678898, 'learning_rate': 0.04315559322744478}. Best is trial 12 with value: 0.13388811427847327.\n",
      "[I 2024-11-15 18:32:54,635] Trial 18 finished with value: 0.1389667570628124 and parameters: {'max_depth': 4, 'min_child_weight': 5, 'gamma': 0.22318942341707448, 'reg_lambda': 4.861093636135674, 'reg_alpha': 0.43217826680863697, 'subsample': 0.7643559228321336, 'colsample_bytree': 0.8740032373035962, 'learning_rate': 0.022940285268057574}. Best is trial 12 with value: 0.13388811427847327.\n",
      "[I 2024-11-15 18:32:56,053] Trial 19 finished with value: 0.1419069787450627 and parameters: {'max_depth': 4, 'min_child_weight': 4, 'gamma': 0.37893948584931625, 'reg_lambda': 3.0057614865346256, 'reg_alpha': 0.33197483137338546, 'subsample': 0.8135707777570235, 'colsample_bytree': 0.8324654042253405, 'learning_rate': 0.03260644014361898}. Best is trial 12 with value: 0.13388811427847327.\n",
      "[I 2024-11-15 18:33:00,340] Trial 20 finished with value: 0.13306964076330516 and parameters: {'max_depth': 3, 'min_child_weight': 5, 'gamma': 0.10477355244658985, 'reg_lambda': 4.057000192379099, 'reg_alpha': 0.2410947421185886, 'subsample': 0.7472811145346872, 'colsample_bytree': 0.7904313256607968, 'learning_rate': 0.010048232430258243}. Best is trial 20 with value: 0.13306964076330516.\n",
      "[I 2024-11-15 18:33:04,340] Trial 21 finished with value: 0.13285287069459373 and parameters: {'max_depth': 3, 'min_child_weight': 5, 'gamma': 0.10740023174195254, 'reg_lambda': 4.064447983935038, 'reg_alpha': 0.2394749155276002, 'subsample': 0.7180384459749842, 'colsample_bytree': 0.750577593398937, 'learning_rate': 0.010696077739288339}. Best is trial 21 with value: 0.13285287069459373.\n",
      "[I 2024-11-15 18:33:06,803] Trial 22 finished with value: 0.13734476180426666 and parameters: {'max_depth': 3, 'min_child_weight': 5, 'gamma': 0.21550424252036487, 'reg_lambda': 4.244433421308583, 'reg_alpha': 0.2090569183395285, 'subsample': 0.7483714620715927, 'colsample_bytree': 0.7500829066456944, 'learning_rate': 0.013511407337826197}. Best is trial 21 with value: 0.13285287069459373.\n",
      "[I 2024-11-15 18:33:10,034] Trial 23 finished with value: 0.13282729588215186 and parameters: {'max_depth': 3, 'min_child_weight': 5, 'gamma': 0.10286165498835925, 'reg_lambda': 3.9294892052108286, 'reg_alpha': 0.26127290875552, 'subsample': 0.7242903057933937, 'colsample_bytree': 0.705373709193594, 'learning_rate': 0.01349761217837596}. Best is trial 23 with value: 0.13282729588215186.\n",
      "[I 2024-11-15 18:33:13,687] Trial 24 finished with value: 0.13762126188530605 and parameters: {'max_depth': 3, 'min_child_weight': 5, 'gamma': 0.21970433315016455, 'reg_lambda': 4.53688128851922, 'reg_alpha': 0.25233379100705117, 'subsample': 0.7810053870427743, 'colsample_bytree': 0.7051765346809119, 'learning_rate': 0.010655469053033202}. Best is trial 23 with value: 0.13282729588215186.\n",
      "[I 2024-11-15 18:33:16,627] Trial 25 finished with value: 0.14360035509635374 and parameters: {'max_depth': 3, 'min_child_weight': 5, 'gamma': 0.4937148684639546, 'reg_lambda': 4.033013873559366, 'reg_alpha': 0.26171820559302605, 'subsample': 0.7227297248867142, 'colsample_bytree': 0.7578346823657736, 'learning_rate': 0.010020071542341039}. Best is trial 23 with value: 0.13282729588215186.\n",
      "[I 2024-11-15 18:33:18,889] Trial 26 finished with value: 0.1406129088043488 and parameters: {'max_depth': 3, 'min_child_weight': 7, 'gamma': 0.3610747344395029, 'reg_lambda': 4.500628658146839, 'reg_alpha': 0.1640201277365055, 'subsample': 0.75148201386044, 'colsample_bytree': 0.7014006234053115, 'learning_rate': 0.01394651176208583}. Best is trial 23 with value: 0.13282729588215186.\n",
      "[I 2024-11-15 18:33:20,876] Trial 27 finished with value: 0.13632438448487444 and parameters: {'max_depth': 3, 'min_child_weight': 5, 'gamma': 0.174864964604655, 'reg_lambda': 3.2686227841490965, 'reg_alpha': 0.2944226062912129, 'subsample': 0.7769053516496635, 'colsample_bytree': 0.7435401802675181, 'learning_rate': 0.02164595955537777}. Best is trial 23 with value: 0.13282729588215186.\n",
      "[I 2024-11-15 18:33:23,551] Trial 28 finished with value: 0.13835397971792832 and parameters: {'max_depth': 3, 'min_child_weight': 5, 'gamma': 0.2692755381895944, 'reg_lambda': 3.9501086335043207, 'reg_alpha': 0.2419341500125462, 'subsample': 0.726491819212518, 'colsample_bytree': 0.7211418491738357, 'learning_rate': 0.012919066922722456}. Best is trial 23 with value: 0.13282729588215186.\n"
     ]
    }
   ],
   "execution_count": null
  },
  {
   "metadata": {},
   "cell_type": "code",
   "source": [
    "import cupy as cp\n",
    "final_model = XGBRegressor(**params,random_state=42 ,device='cuda',tree_method='hist',early_stopping_rounds= 30,n_estimators= 10000, )\n",
    "cpXt = cp.array(X_train)\n",
    "cpYt = cp.array(y_train)\n",
    "cpXv = cp.array(X_valid)\n",
    "cpYv = cp.array(y_valid)\n",
    "final_model.fit(\n",
    "    cpXt,\n",
    "    cpYt,\n",
    "    eval_set=[(cpXt, cpYt), (cpXv, cpYv)],\n",
    ")\n",
    "testCp = cp.array(test_processed)\n",
    "predictions = np.expm1(final_model.predict(testCp))\n",
    "final_pred = pd.DataFrame(predictions)\n",
    "submission = pd.concat([test_ids, final_pred], axis=1)\n",
    "submission.columns = ['id', 'SalePrice']\n",
    "submission.to_csv('submissions/submission.csv', index=False)"
   ],
   "id": "b41bdd11a9dbc64c",
   "outputs": [],
   "execution_count": null
  },
  {
   "metadata": {},
   "cell_type": "code",
   "source": [
    "print(params)\n",
    "best_so_far = params\n",
    "best_so_far = pd.DataFrame(best_so_far, index=[0])\n",
    "best_so_far.to_json('best_so_farv2.json',orient='records')"
   ],
   "id": "d8e87ee7f530459d",
   "outputs": [],
   "execution_count": null
  },
  {
   "metadata": {},
   "cell_type": "code",
   "source": "",
   "id": "167d425eb9c6bbaf",
   "outputs": [],
   "execution_count": null
  }
 ],
 "metadata": {
  "kernelspec": {
   "display_name": "Python 3",
   "language": "python",
   "name": "python3"
  },
  "language_info": {
   "codemirror_mode": {
    "name": "ipython",
    "version": 2
   },
   "file_extension": ".py",
   "mimetype": "text/x-python",
   "name": "python",
   "nbconvert_exporter": "python",
   "pygments_lexer": "ipython2",
   "version": "2.7.6"
  }
 },
 "nbformat": 4,
 "nbformat_minor": 5
}
