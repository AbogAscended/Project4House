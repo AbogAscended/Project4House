{
 "cells": [
  {
   "cell_type": "code",
   "id": "initial_id",
   "metadata": {
    "collapsed": true,
    "ExecuteTime": {
     "end_time": "2024-11-15T04:08:19.524553Z",
     "start_time": "2024-11-15T04:08:19.108701Z"
    }
   },
   "source": [
    "import numpy as np\n",
    "import pandas as pd\n",
    "from sklearn.experimental import enable_iterative_imputer\n",
    "from sklearn.pipeline import Pipeline\n",
    "from sklearn.impute import IterativeImputer\n",
    "from sklearn.compose import ColumnTransformer\n",
    "from sklearn.impute import SimpleImputer\n",
    "from sklearn.preprocessing import OneHotEncoder\n",
    "from sklearn.model_selection import train_test_split\n",
    "from xgboost import XGBRegressor\n",
    "import optuna\n",
    "from objectiveOpt import studier"
   ],
   "outputs": [],
   "execution_count": 1
  },
  {
   "metadata": {
    "ExecuteTime": {
     "end_time": "2024-11-15T04:08:19.547913Z",
     "start_time": "2024-11-15T04:08:19.531382Z"
    }
   },
   "cell_type": "code",
   "source": [
    "# Load datasets\n",
    "train = pd.read_csv('data/train.csv')\n",
    "train = train.drop('Id', axis=1)\n",
    "test = pd.read_csv('data/test.csv')\n",
    "test_ids = test.pop('Id')"
   ],
   "id": "c9018104d67ed9ad",
   "outputs": [],
   "execution_count": 2
  },
  {
   "metadata": {
    "ExecuteTime": {
     "end_time": "2024-11-15T04:08:19.586014Z",
     "start_time": "2024-11-15T04:08:19.584172Z"
    }
   },
   "cell_type": "code",
   "source": [
    "# Fill missing values for specific columns\n",
    "train.fillna({'LotFrontage': 0, 'MiscVal': 0}, inplace=True)"
   ],
   "id": "2bd18d7bc72421a8",
   "outputs": [],
   "execution_count": 3
  },
  {
   "metadata": {
    "ExecuteTime": {
     "end_time": "2024-11-15T04:08:19.635404Z",
     "start_time": "2024-11-15T04:08:19.629953Z"
    }
   },
   "cell_type": "code",
   "source": [
    "# Feature engineering\n",
    "train['year_qual'] = train['YearBuilt'] * train['OverallQual']\n",
    "train['year_r_qual'] = train['YearRemodAdd'] * train['OverallQual']\n",
    "train['qual_bsmt'] = train['OverallQual'] * train['TotalBsmtSF']\n",
    "train['qual_fl'] = train['OverallQual'] * train['1stFlrSF']\n",
    "train['qual_gr'] = train['OverallQual'] * train['GrLivArea']\n",
    "train['qual_gar_area'] = train['OverallQual'] * train['GarageArea']\n",
    "train['qual_gar_cars'] = train['OverallQual'] * train['GarageCars']\n",
    "train['qual_bath'] = train['OverallQual'] * train['FullBath']\n",
    "train['qual_bed'] = train['OverallQual'] * train['BedroomAbvGr']\n",
    "train['qual_kit'] = train['OverallQual'] * train['KitchenAbvGr']\n",
    "train['qual_fire'] = train['OverallQual'] * train['Fireplaces']\n",
    "train['qual_wd'] = train['OverallQual'] * train['WoodDeckSF']\n",
    "train['qual_op'] = train['OverallQual'] * train['OpenPorchSF']\n",
    "train['qual_en'] = train['OverallQual'] * train['EnclosedPorch']\n",
    "train['qual_3s'] = train['OverallQual'] * train['3SsnPorch']\n",
    "train['qual_scr'] = train['OverallQual'] * train['ScreenPorch']\n",
    "train['qual_pool'] = train['OverallQual'] * train['PoolArea']\n",
    "train['qual_mo'] = train['OverallQual'] * train['MoSold']\n",
    "train['qual_yr'] = train['OverallQual'] * train['YrSold']"
   ],
   "id": "df9533c28fc1066c",
   "outputs": [],
   "execution_count": 4
  },
  {
   "metadata": {
    "ExecuteTime": {
     "end_time": "2024-11-15T04:08:19.685218Z",
     "start_time": "2024-11-15T04:08:19.676305Z"
    }
   },
   "cell_type": "code",
   "source": [
    "# Extract numerical features and calculate correlation with SalePrice\n",
    "numerical_features = train.select_dtypes(include=[np.number])\n",
    "correlation_matrix = numerical_features.corr()\n",
    "high_corr_features = correlation_matrix.index[abs(correlation_matrix[\"SalePrice\"]) > 0.8].tolist()\n",
    "high_corr_data = train[high_corr_features]"
   ],
   "id": "5f6772cb80e2ffb4",
   "outputs": [],
   "execution_count": 5
  },
  {
   "metadata": {
    "ExecuteTime": {
     "end_time": "2024-11-15T04:08:19.725304Z",
     "start_time": "2024-11-15T04:08:19.722020Z"
    }
   },
   "cell_type": "code",
   "source": [
    "# Separate target variable and concatenate datasets for imputation\n",
    "train_target = train.pop('SalePrice')\n",
    "combinedSet = pd.concat([train, test], axis=0, ignore_index=True)"
   ],
   "id": "a42497329e6337fe",
   "outputs": [],
   "execution_count": 6
  },
  {
   "metadata": {
    "ExecuteTime": {
     "end_time": "2024-11-15T04:08:19.771273Z",
     "start_time": "2024-11-15T04:08:19.766686Z"
    }
   },
   "cell_type": "code",
   "source": [
    "# Separate transformed data back into train and test\n",
    "train = combinedSet.iloc[:len(train_target)].copy()\n",
    "test = combinedSet.iloc[len(train_target):].copy()"
   ],
   "id": "df54f57fc186f972",
   "outputs": [],
   "execution_count": 7
  },
  {
   "metadata": {
    "ExecuteTime": {
     "end_time": "2024-11-15T04:08:19.815305Z",
     "start_time": "2024-11-15T04:08:19.810463Z"
    }
   },
   "cell_type": "code",
   "source": [
    "# Select categorical and numerical columns\n",
    "categorical_cols = combinedSet.select_dtypes(include=['object']).columns.tolist()\n",
    "numerical_cols = combinedSet.select_dtypes(include=['number']).columns.tolist()"
   ],
   "id": "1ee22b01d0fba7c9",
   "outputs": [],
   "execution_count": 8
  },
  {
   "metadata": {
    "ExecuteTime": {
     "end_time": "2024-11-15T04:08:19.856287Z",
     "start_time": "2024-11-15T04:08:19.854724Z"
    }
   },
   "cell_type": "code",
   "source": [
    "# Define the transformers\n",
    "numerical_transformer = Pipeline(steps=[\n",
    "    ('imputer', IterativeImputer(random_state=0))\n",
    "])\n",
    "categorical_transformer = Pipeline(steps=[\n",
    "    ('imputer', SimpleImputer(strategy='most_frequent')),\n",
    "    ('encoder', OneHotEncoder(handle_unknown='ignore'))\n",
    "])"
   ],
   "id": "ec7e38fa770959ed",
   "outputs": [],
   "execution_count": 9
  },
  {
   "metadata": {
    "ExecuteTime": {
     "end_time": "2024-11-15T04:08:19.900856Z",
     "start_time": "2024-11-15T04:08:19.899416Z"
    }
   },
   "cell_type": "code",
   "source": [
    "# Combine transformers into a preprocessor\n",
    "preprocessor = ColumnTransformer(\n",
    "    transformers=[\n",
    "        ('num', numerical_transformer, numerical_cols),\n",
    "        ('cat', categorical_transformer, categorical_cols)\n",
    "    ]\n",
    ")"
   ],
   "id": "fb2722ad6db7b9a3",
   "outputs": [],
   "execution_count": 10
  },
  {
   "metadata": {
    "ExecuteTime": {
     "end_time": "2024-11-15T04:08:20.439389Z",
     "start_time": "2024-11-15T04:08:19.944729Z"
    }
   },
   "cell_type": "code",
   "source": [
    "# Apply the preprocessor to the data\n",
    "train_processed = preprocessor.fit_transform(train)\n",
    "test_processed = preprocessor.transform(test)"
   ],
   "id": "ac49dc94319a6ff5",
   "outputs": [],
   "execution_count": 11
  },
  {
   "metadata": {
    "ExecuteTime": {
     "end_time": "2024-11-15T04:08:20.460162Z",
     "start_time": "2024-11-15T04:08:20.458144Z"
    }
   },
   "cell_type": "code",
   "source": [
    "# Split processed training data for validation\n",
    "X_train, X_valid, y_train, y_valid = train_test_split(train_processed, train_target, test_size=0.2, random_state=723894)"
   ],
   "id": "12cb23da176a8a58",
   "outputs": [],
   "execution_count": 12
  },
  {
   "metadata": {
    "ExecuteTime": {
     "end_time": "2024-11-15T04:10:00.050327Z",
     "start_time": "2024-11-15T04:08:20.501999Z"
    }
   },
   "cell_type": "code",
   "source": [
    "params, value = studier(1000, 12)\n",
    "print(params)"
   ],
   "id": "a39883fd8bd62202",
   "outputs": [
    {
     "name": "stderr",
     "output_type": "stream",
     "text": [
      "[I 2024-11-14 20:08:20,502] A new study created in memory with name: We the best house\n",
      "[W 2024-11-14 20:09:57,610] Trial 9 failed with parameters: {} because of the following error: InvalidParameterError(\"The 'random_state' parameter of train_test_split must be an int in the range [0, 4294967295], an instance of 'numpy.random.mtrand.RandomState' or None. Got 723894576082367 instead.\").\n",
      "Traceback (most recent call last):\n",
      "  File \"/home/abog/anaconda3/lib/python3.12/site-packages/optuna/study/_optimize.py\", line 197, in _run_trial\n",
      "    value_or_values = func(trial)\n",
      "                      ^^^^^^^^^^^\n",
      "  File \"/home/abog/UpperDivision/PycharmProjects/Project4House/objectiveOpt.py\", line 106, in objective\n",
      "    X_train, X_valid, y_train, y_valid = train_test_split(train_processed, train_target, test_size=0.2,\n",
      "                                         ^^^^^^^^^^^^^^^^^^^^^^^^^^^^^^^^^^^^^^^^^^^^^^^^^^^^^^^^^^^^^^\n",
      "  File \"/home/abog/anaconda3/lib/python3.12/site-packages/sklearn/utils/_param_validation.py\", line 203, in wrapper\n",
      "    validate_parameter_constraints(\n",
      "  File \"/home/abog/anaconda3/lib/python3.12/site-packages/sklearn/utils/_param_validation.py\", line 95, in validate_parameter_constraints\n",
      "    raise InvalidParameterError(\n",
      "sklearn.utils._param_validation.InvalidParameterError: The 'random_state' parameter of train_test_split must be an int in the range [0, 4294967295], an instance of 'numpy.random.mtrand.RandomState' or None. Got 723894576082367 instead.\n",
      "[W 2024-11-14 20:09:58,035] Trial 9 failed with value None.\n",
      "[W 2024-11-14 20:09:58,668] Trial 4 failed with parameters: {} because of the following error: InvalidParameterError(\"The 'random_state' parameter of train_test_split must be an int in the range [0, 4294967295], an instance of 'numpy.random.mtrand.RandomState' or None. Got 723894576082367 instead.\").\n",
      "Traceback (most recent call last):\n",
      "  File \"/home/abog/anaconda3/lib/python3.12/site-packages/optuna/study/_optimize.py\", line 197, in _run_trial\n",
      "    value_or_values = func(trial)\n",
      "                      ^^^^^^^^^^^\n",
      "  File \"/home/abog/UpperDivision/PycharmProjects/Project4House/objectiveOpt.py\", line 106, in objective\n",
      "    X_train, X_valid, y_train, y_valid = train_test_split(train_processed, train_target, test_size=0.2,\n",
      "                                         ^^^^^^^^^^^^^^^^^^^^^^^^^^^^^^^^^^^^^^^^^^^^^^^^^^^^^^^^^^^^^^\n",
      "  File \"/home/abog/anaconda3/lib/python3.12/site-packages/sklearn/utils/_param_validation.py\", line 203, in wrapper\n",
      "    validate_parameter_constraints(\n",
      "  File \"/home/abog/anaconda3/lib/python3.12/site-packages/sklearn/utils/_param_validation.py\", line 95, in validate_parameter_constraints\n",
      "    raise InvalidParameterError(\n",
      "sklearn.utils._param_validation.InvalidParameterError: The 'random_state' parameter of train_test_split must be an int in the range [0, 4294967295], an instance of 'numpy.random.mtrand.RandomState' or None. Got 723894576082367 instead.\n",
      "[W 2024-11-14 20:09:58,955] Trial 4 failed with value None.\n",
      "[W 2024-11-14 20:09:58,956] Trial 3 failed with parameters: {} because of the following error: InvalidParameterError(\"The 'random_state' parameter of train_test_split must be an int in the range [0, 4294967295], an instance of 'numpy.random.mtrand.RandomState' or None. Got 723894576082367 instead.\").\n",
      "Traceback (most recent call last):\n",
      "  File \"/home/abog/anaconda3/lib/python3.12/site-packages/optuna/study/_optimize.py\", line 197, in _run_trial\n",
      "    value_or_values = func(trial)\n",
      "                      ^^^^^^^^^^^\n",
      "  File \"/home/abog/UpperDivision/PycharmProjects/Project4House/objectiveOpt.py\", line 106, in objective\n",
      "    X_train, X_valid, y_train, y_valid = train_test_split(train_processed, train_target, test_size=0.2,\n",
      "                                         ^^^^^^^^^^^^^^^^^^^^^^^^^^^^^^^^^^^^^^^^^^^^^^^^^^^^^^^^^^^^^^\n",
      "  File \"/home/abog/anaconda3/lib/python3.12/site-packages/sklearn/utils/_param_validation.py\", line 203, in wrapper\n",
      "    validate_parameter_constraints(\n",
      "  File \"/home/abog/anaconda3/lib/python3.12/site-packages/sklearn/utils/_param_validation.py\", line 95, in validate_parameter_constraints\n",
      "    raise InvalidParameterError(\n",
      "sklearn.utils._param_validation.InvalidParameterError: The 'random_state' parameter of train_test_split must be an int in the range [0, 4294967295], an instance of 'numpy.random.mtrand.RandomState' or None. Got 723894576082367 instead.\n",
      "[W 2024-11-14 20:09:59,381] Trial 3 failed with value None.\n",
      "[W 2024-11-14 20:09:59,382] Trial 11 failed with parameters: {} because of the following error: InvalidParameterError(\"The 'random_state' parameter of train_test_split must be an int in the range [0, 4294967295], an instance of 'numpy.random.mtrand.RandomState' or None. Got 723894576082367 instead.\").\n",
      "Traceback (most recent call last):\n",
      "  File \"/home/abog/anaconda3/lib/python3.12/site-packages/optuna/study/_optimize.py\", line 197, in _run_trial\n",
      "    value_or_values = func(trial)\n",
      "                      ^^^^^^^^^^^\n",
      "  File \"/home/abog/UpperDivision/PycharmProjects/Project4House/objectiveOpt.py\", line 106, in objective\n",
      "    X_train, X_valid, y_train, y_valid = train_test_split(train_processed, train_target, test_size=0.2,\n",
      "                                         ^^^^^^^^^^^^^^^^^^^^^^^^^^^^^^^^^^^^^^^^^^^^^^^^^^^^^^^^^^^^^^\n",
      "  File \"/home/abog/anaconda3/lib/python3.12/site-packages/sklearn/utils/_param_validation.py\", line 203, in wrapper\n",
      "    validate_parameter_constraints(\n",
      "  File \"/home/abog/anaconda3/lib/python3.12/site-packages/sklearn/utils/_param_validation.py\", line 95, in validate_parameter_constraints\n",
      "    raise InvalidParameterError(\n",
      "sklearn.utils._param_validation.InvalidParameterError: The 'random_state' parameter of train_test_split must be an int in the range [0, 4294967295], an instance of 'numpy.random.mtrand.RandomState' or None. Got 723894576082367 instead.\n",
      "[W 2024-11-14 20:09:59,402] Trial 11 failed with value None.\n",
      "[W 2024-11-14 20:09:59,510] Trial 2 failed with parameters: {} because of the following error: InvalidParameterError(\"The 'random_state' parameter of train_test_split must be an int in the range [0, 4294967295], an instance of 'numpy.random.mtrand.RandomState' or None. Got 723894576082367 instead.\").\n",
      "Traceback (most recent call last):\n",
      "  File \"/home/abog/anaconda3/lib/python3.12/site-packages/optuna/study/_optimize.py\", line 197, in _run_trial\n",
      "    value_or_values = func(trial)\n",
      "                      ^^^^^^^^^^^\n",
      "  File \"/home/abog/UpperDivision/PycharmProjects/Project4House/objectiveOpt.py\", line 106, in objective\n",
      "    X_train, X_valid, y_train, y_valid = train_test_split(train_processed, train_target, test_size=0.2,\n",
      "                                         ^^^^^^^^^^^^^^^^^^^^^^^^^^^^^^^^^^^^^^^^^^^^^^^^^^^^^^^^^^^^^^\n",
      "  File \"/home/abog/anaconda3/lib/python3.12/site-packages/sklearn/utils/_param_validation.py\", line 203, in wrapper\n",
      "    validate_parameter_constraints(\n",
      "  File \"/home/abog/anaconda3/lib/python3.12/site-packages/sklearn/utils/_param_validation.py\", line 95, in validate_parameter_constraints\n",
      "    raise InvalidParameterError(\n",
      "sklearn.utils._param_validation.InvalidParameterError: The 'random_state' parameter of train_test_split must be an int in the range [0, 4294967295], an instance of 'numpy.random.mtrand.RandomState' or None. Got 723894576082367 instead.\n",
      "[W 2024-11-14 20:09:59,528] Trial 2 failed with value None.\n",
      "[W 2024-11-14 20:09:59,518] Trial 0 failed with parameters: {} because of the following error: InvalidParameterError(\"The 'random_state' parameter of train_test_split must be an int in the range [0, 4294967295], an instance of 'numpy.random.mtrand.RandomState' or None. Got 723894576082367 instead.\").\n",
      "Traceback (most recent call last):\n",
      "  File \"/home/abog/anaconda3/lib/python3.12/site-packages/optuna/study/_optimize.py\", line 197, in _run_trial\n",
      "    value_or_values = func(trial)\n",
      "                      ^^^^^^^^^^^\n",
      "  File \"/home/abog/UpperDivision/PycharmProjects/Project4House/objectiveOpt.py\", line 106, in objective\n",
      "    X_train, X_valid, y_train, y_valid = train_test_split(train_processed, train_target, test_size=0.2,\n",
      "                                         ^^^^^^^^^^^^^^^^^^^^^^^^^^^^^^^^^^^^^^^^^^^^^^^^^^^^^^^^^^^^^^\n",
      "  File \"/home/abog/anaconda3/lib/python3.12/site-packages/sklearn/utils/_param_validation.py\", line 203, in wrapper\n",
      "    validate_parameter_constraints(\n",
      "  File \"/home/abog/anaconda3/lib/python3.12/site-packages/sklearn/utils/_param_validation.py\", line 95, in validate_parameter_constraints\n",
      "    raise InvalidParameterError(\n",
      "sklearn.utils._param_validation.InvalidParameterError: The 'random_state' parameter of train_test_split must be an int in the range [0, 4294967295], an instance of 'numpy.random.mtrand.RandomState' or None. Got 723894576082367 instead.\n",
      "[W 2024-11-14 20:09:59,544] Trial 0 failed with value None.\n",
      "[W 2024-11-14 20:09:59,553] Trial 8 failed with parameters: {} because of the following error: InvalidParameterError(\"The 'random_state' parameter of train_test_split must be an int in the range [0, 4294967295], an instance of 'numpy.random.mtrand.RandomState' or None. Got 723894576082367 instead.\").\n",
      "Traceback (most recent call last):\n",
      "  File \"/home/abog/anaconda3/lib/python3.12/site-packages/optuna/study/_optimize.py\", line 197, in _run_trial\n",
      "    value_or_values = func(trial)\n",
      "                      ^^^^^^^^^^^\n",
      "  File \"/home/abog/UpperDivision/PycharmProjects/Project4House/objectiveOpt.py\", line 106, in objective\n",
      "    X_train, X_valid, y_train, y_valid = train_test_split(train_processed, train_target, test_size=0.2,\n",
      "                                         ^^^^^^^^^^^^^^^^^^^^^^^^^^^^^^^^^^^^^^^^^^^^^^^^^^^^^^^^^^^^^^\n",
      "  File \"/home/abog/anaconda3/lib/python3.12/site-packages/sklearn/utils/_param_validation.py\", line 203, in wrapper\n",
      "    validate_parameter_constraints(\n",
      "  File \"/home/abog/anaconda3/lib/python3.12/site-packages/sklearn/utils/_param_validation.py\", line 95, in validate_parameter_constraints\n",
      "    raise InvalidParameterError(\n",
      "sklearn.utils._param_validation.InvalidParameterError: The 'random_state' parameter of train_test_split must be an int in the range [0, 4294967295], an instance of 'numpy.random.mtrand.RandomState' or None. Got 723894576082367 instead.\n",
      "[W 2024-11-14 20:09:59,558] Trial 8 failed with value None.\n",
      "[W 2024-11-14 20:09:59,612] Trial 6 failed with parameters: {} because of the following error: InvalidParameterError(\"The 'random_state' parameter of train_test_split must be an int in the range [0, 4294967295], an instance of 'numpy.random.mtrand.RandomState' or None. Got 723894576082367 instead.\").\n",
      "Traceback (most recent call last):\n",
      "  File \"/home/abog/anaconda3/lib/python3.12/site-packages/optuna/study/_optimize.py\", line 197, in _run_trial\n",
      "    value_or_values = func(trial)\n",
      "                      ^^^^^^^^^^^\n",
      "  File \"/home/abog/UpperDivision/PycharmProjects/Project4House/objectiveOpt.py\", line 106, in objective\n",
      "    X_train, X_valid, y_train, y_valid = train_test_split(train_processed, train_target, test_size=0.2,\n",
      "                                         ^^^^^^^^^^^^^^^^^^^^^^^^^^^^^^^^^^^^^^^^^^^^^^^^^^^^^^^^^^^^^^\n",
      "  File \"/home/abog/anaconda3/lib/python3.12/site-packages/sklearn/utils/_param_validation.py\", line 203, in wrapper\n",
      "    validate_parameter_constraints(\n",
      "  File \"/home/abog/anaconda3/lib/python3.12/site-packages/sklearn/utils/_param_validation.py\", line 95, in validate_parameter_constraints\n",
      "    raise InvalidParameterError(\n",
      "sklearn.utils._param_validation.InvalidParameterError: The 'random_state' parameter of train_test_split must be an int in the range [0, 4294967295], an instance of 'numpy.random.mtrand.RandomState' or None. Got 723894576082367 instead.\n",
      "[W 2024-11-14 20:09:59,619] Trial 6 failed with value None.\n",
      "[W 2024-11-14 20:09:59,616] Trial 1 failed with parameters: {} because of the following error: InvalidParameterError(\"The 'random_state' parameter of train_test_split must be an int in the range [0, 4294967295], an instance of 'numpy.random.mtrand.RandomState' or None. Got 723894576082367 instead.\").\n",
      "Traceback (most recent call last):\n",
      "  File \"/home/abog/anaconda3/lib/python3.12/site-packages/optuna/study/_optimize.py\", line 197, in _run_trial\n",
      "    value_or_values = func(trial)\n",
      "                      ^^^^^^^^^^^\n",
      "  File \"/home/abog/UpperDivision/PycharmProjects/Project4House/objectiveOpt.py\", line 106, in objective\n",
      "    X_train, X_valid, y_train, y_valid = train_test_split(train_processed, train_target, test_size=0.2,\n",
      "                                         ^^^^^^^^^^^^^^^^^^^^^^^^^^^^^^^^^^^^^^^^^^^^^^^^^^^^^^^^^^^^^^\n",
      "  File \"/home/abog/anaconda3/lib/python3.12/site-packages/sklearn/utils/_param_validation.py\", line 203, in wrapper\n",
      "    validate_parameter_constraints(\n",
      "  File \"/home/abog/anaconda3/lib/python3.12/site-packages/sklearn/utils/_param_validation.py\", line 95, in validate_parameter_constraints\n",
      "    raise InvalidParameterError(\n",
      "sklearn.utils._param_validation.InvalidParameterError: The 'random_state' parameter of train_test_split must be an int in the range [0, 4294967295], an instance of 'numpy.random.mtrand.RandomState' or None. Got 723894576082367 instead.\n",
      "[W 2024-11-14 20:09:59,620] Trial 1 failed with value None.\n",
      "[W 2024-11-14 20:09:59,662] Trial 5 failed with parameters: {} because of the following error: InvalidParameterError(\"The 'random_state' parameter of train_test_split must be an int in the range [0, 4294967295], an instance of 'numpy.random.mtrand.RandomState' or None. Got 723894576082367 instead.\").\n",
      "Traceback (most recent call last):\n",
      "  File \"/home/abog/anaconda3/lib/python3.12/site-packages/optuna/study/_optimize.py\", line 197, in _run_trial\n",
      "    value_or_values = func(trial)\n",
      "                      ^^^^^^^^^^^\n",
      "  File \"/home/abog/UpperDivision/PycharmProjects/Project4House/objectiveOpt.py\", line 106, in objective\n",
      "    X_train, X_valid, y_train, y_valid = train_test_split(train_processed, train_target, test_size=0.2,\n",
      "                                         ^^^^^^^^^^^^^^^^^^^^^^^^^^^^^^^^^^^^^^^^^^^^^^^^^^^^^^^^^^^^^^\n",
      "  File \"/home/abog/anaconda3/lib/python3.12/site-packages/sklearn/utils/_param_validation.py\", line 203, in wrapper\n",
      "    validate_parameter_constraints(\n",
      "  File \"/home/abog/anaconda3/lib/python3.12/site-packages/sklearn/utils/_param_validation.py\", line 95, in validate_parameter_constraints\n",
      "    raise InvalidParameterError(\n",
      "sklearn.utils._param_validation.InvalidParameterError: The 'random_state' parameter of train_test_split must be an int in the range [0, 4294967295], an instance of 'numpy.random.mtrand.RandomState' or None. Got 723894576082367 instead.\n",
      "[W 2024-11-14 20:09:59,667] Trial 5 failed with value None.\n",
      "[W 2024-11-14 20:09:59,671] Trial 7 failed with parameters: {} because of the following error: InvalidParameterError(\"The 'random_state' parameter of train_test_split must be an int in the range [0, 4294967295], an instance of 'numpy.random.mtrand.RandomState' or None. Got 723894576082367 instead.\").\n",
      "Traceback (most recent call last):\n",
      "  File \"/home/abog/anaconda3/lib/python3.12/site-packages/optuna/study/_optimize.py\", line 197, in _run_trial\n",
      "    value_or_values = func(trial)\n",
      "                      ^^^^^^^^^^^\n",
      "  File \"/home/abog/UpperDivision/PycharmProjects/Project4House/objectiveOpt.py\", line 106, in objective\n",
      "    X_train, X_valid, y_train, y_valid = train_test_split(train_processed, train_target, test_size=0.2,\n",
      "                                         ^^^^^^^^^^^^^^^^^^^^^^^^^^^^^^^^^^^^^^^^^^^^^^^^^^^^^^^^^^^^^^\n",
      "  File \"/home/abog/anaconda3/lib/python3.12/site-packages/sklearn/utils/_param_validation.py\", line 203, in wrapper\n",
      "    validate_parameter_constraints(\n",
      "  File \"/home/abog/anaconda3/lib/python3.12/site-packages/sklearn/utils/_param_validation.py\", line 95, in validate_parameter_constraints\n",
      "    raise InvalidParameterError(\n",
      "sklearn.utils._param_validation.InvalidParameterError: The 'random_state' parameter of train_test_split must be an int in the range [0, 4294967295], an instance of 'numpy.random.mtrand.RandomState' or None. Got 723894576082367 instead.\n",
      "[W 2024-11-14 20:09:59,671] Trial 7 failed with value None.\n",
      "[W 2024-11-14 20:09:59,686] Trial 10 failed with parameters: {} because of the following error: InvalidParameterError(\"The 'random_state' parameter of train_test_split must be an int in the range [0, 4294967295], an instance of 'numpy.random.mtrand.RandomState' or None. Got 723894576082367 instead.\").\n",
      "Traceback (most recent call last):\n",
      "  File \"/home/abog/anaconda3/lib/python3.12/site-packages/optuna/study/_optimize.py\", line 197, in _run_trial\n",
      "    value_or_values = func(trial)\n",
      "                      ^^^^^^^^^^^\n",
      "  File \"/home/abog/UpperDivision/PycharmProjects/Project4House/objectiveOpt.py\", line 106, in objective\n",
      "    X_train, X_valid, y_train, y_valid = train_test_split(train_processed, train_target, test_size=0.2,\n",
      "                                         ^^^^^^^^^^^^^^^^^^^^^^^^^^^^^^^^^^^^^^^^^^^^^^^^^^^^^^^^^^^^^^\n",
      "  File \"/home/abog/anaconda3/lib/python3.12/site-packages/sklearn/utils/_param_validation.py\", line 203, in wrapper\n",
      "    validate_parameter_constraints(\n",
      "  File \"/home/abog/anaconda3/lib/python3.12/site-packages/sklearn/utils/_param_validation.py\", line 95, in validate_parameter_constraints\n",
      "    raise InvalidParameterError(\n",
      "sklearn.utils._param_validation.InvalidParameterError: The 'random_state' parameter of train_test_split must be an int in the range [0, 4294967295], an instance of 'numpy.random.mtrand.RandomState' or None. Got 723894576082367 instead.\n",
      "[W 2024-11-14 20:09:59,687] Trial 10 failed with value None.\n"
     ]
    },
    {
     "ename": "InvalidParameterError",
     "evalue": "The 'random_state' parameter of train_test_split must be an int in the range [0, 4294967295], an instance of 'numpy.random.mtrand.RandomState' or None. Got 723894576082367 instead.",
     "output_type": "error",
     "traceback": [
      "\u001B[0;31m---------------------------------------------------------------------------\u001B[0m",
      "\u001B[0;31mInvalidParameterError\u001B[0m                     Traceback (most recent call last)",
      "Cell \u001B[0;32mIn[13], line 1\u001B[0m\n\u001B[0;32m----> 1\u001B[0m params, value \u001B[38;5;241m=\u001B[39m studier(\u001B[38;5;241m1000\u001B[39m, \u001B[38;5;241m12\u001B[39m)\n\u001B[1;32m      2\u001B[0m \u001B[38;5;28mprint\u001B[39m(params)\n",
      "File \u001B[0;32m~/UpperDivision/PycharmProjects/Project4House/objectiveOpt.py:28\u001B[0m, in \u001B[0;36mstudier\u001B[0;34m(trials, jobs)\u001B[0m\n\u001B[1;32m     16\u001B[0m study \u001B[38;5;241m=\u001B[39m optuna\u001B[38;5;241m.\u001B[39mcreate_study(\n\u001B[1;32m     17\u001B[0m     study_name\u001B[38;5;241m=\u001B[39m\u001B[38;5;124m'\u001B[39m\u001B[38;5;124mWe the best house\u001B[39m\u001B[38;5;124m'\u001B[39m,\n\u001B[1;32m     18\u001B[0m     direction\u001B[38;5;241m=\u001B[39m\u001B[38;5;124m'\u001B[39m\u001B[38;5;124mminimize\u001B[39m\u001B[38;5;124m'\u001B[39m,\n\u001B[0;32m   (...)\u001B[0m\n\u001B[1;32m     24\u001B[0m     )\n\u001B[1;32m     25\u001B[0m )\n\u001B[1;32m     27\u001B[0m \u001B[38;5;66;03m# Run optimization\u001B[39;00m\n\u001B[0;32m---> 28\u001B[0m study\u001B[38;5;241m.\u001B[39moptimize(\n\u001B[1;32m     29\u001B[0m     objective,\n\u001B[1;32m     30\u001B[0m     n_trials\u001B[38;5;241m=\u001B[39mtrials,\n\u001B[1;32m     31\u001B[0m     n_jobs\u001B[38;5;241m=\u001B[39mjobs\n\u001B[1;32m     32\u001B[0m )\n\u001B[1;32m     33\u001B[0m \u001B[38;5;28;01mreturn\u001B[39;00m study\u001B[38;5;241m.\u001B[39mbest_params, study\u001B[38;5;241m.\u001B[39mbest_value\n",
      "File \u001B[0;32m~/anaconda3/lib/python3.12/site-packages/optuna/study/study.py:475\u001B[0m, in \u001B[0;36mStudy.optimize\u001B[0;34m(self, func, n_trials, timeout, n_jobs, catch, callbacks, gc_after_trial, show_progress_bar)\u001B[0m\n\u001B[1;32m    373\u001B[0m \u001B[38;5;28;01mdef\u001B[39;00m \u001B[38;5;21moptimize\u001B[39m(\n\u001B[1;32m    374\u001B[0m     \u001B[38;5;28mself\u001B[39m,\n\u001B[1;32m    375\u001B[0m     func: ObjectiveFuncType,\n\u001B[0;32m   (...)\u001B[0m\n\u001B[1;32m    382\u001B[0m     show_progress_bar: \u001B[38;5;28mbool\u001B[39m \u001B[38;5;241m=\u001B[39m \u001B[38;5;28;01mFalse\u001B[39;00m,\n\u001B[1;32m    383\u001B[0m ) \u001B[38;5;241m-\u001B[39m\u001B[38;5;241m>\u001B[39m \u001B[38;5;28;01mNone\u001B[39;00m:\n\u001B[1;32m    384\u001B[0m \u001B[38;5;250m    \u001B[39m\u001B[38;5;124;03m\"\"\"Optimize an objective function.\u001B[39;00m\n\u001B[1;32m    385\u001B[0m \n\u001B[1;32m    386\u001B[0m \u001B[38;5;124;03m    Optimization is done by choosing a suitable set of hyperparameter values from a given\u001B[39;00m\n\u001B[0;32m   (...)\u001B[0m\n\u001B[1;32m    473\u001B[0m \u001B[38;5;124;03m            If nested invocation of this method occurs.\u001B[39;00m\n\u001B[1;32m    474\u001B[0m \u001B[38;5;124;03m    \"\"\"\u001B[39;00m\n\u001B[0;32m--> 475\u001B[0m     _optimize(\n\u001B[1;32m    476\u001B[0m         study\u001B[38;5;241m=\u001B[39m\u001B[38;5;28mself\u001B[39m,\n\u001B[1;32m    477\u001B[0m         func\u001B[38;5;241m=\u001B[39mfunc,\n\u001B[1;32m    478\u001B[0m         n_trials\u001B[38;5;241m=\u001B[39mn_trials,\n\u001B[1;32m    479\u001B[0m         timeout\u001B[38;5;241m=\u001B[39mtimeout,\n\u001B[1;32m    480\u001B[0m         n_jobs\u001B[38;5;241m=\u001B[39mn_jobs,\n\u001B[1;32m    481\u001B[0m         catch\u001B[38;5;241m=\u001B[39m\u001B[38;5;28mtuple\u001B[39m(catch) \u001B[38;5;28;01mif\u001B[39;00m \u001B[38;5;28misinstance\u001B[39m(catch, Iterable) \u001B[38;5;28;01melse\u001B[39;00m (catch,),\n\u001B[1;32m    482\u001B[0m         callbacks\u001B[38;5;241m=\u001B[39mcallbacks,\n\u001B[1;32m    483\u001B[0m         gc_after_trial\u001B[38;5;241m=\u001B[39mgc_after_trial,\n\u001B[1;32m    484\u001B[0m         show_progress_bar\u001B[38;5;241m=\u001B[39mshow_progress_bar,\n\u001B[1;32m    485\u001B[0m     )\n",
      "File \u001B[0;32m~/anaconda3/lib/python3.12/site-packages/optuna/study/_optimize.py:100\u001B[0m, in \u001B[0;36m_optimize\u001B[0;34m(study, func, n_trials, timeout, n_jobs, catch, callbacks, gc_after_trial, show_progress_bar)\u001B[0m\n\u001B[1;32m     98\u001B[0m                     \u001B[38;5;66;03m# Raise if exception occurred in executing the completed futures.\u001B[39;00m\n\u001B[1;32m     99\u001B[0m                     \u001B[38;5;28;01mfor\u001B[39;00m f \u001B[38;5;129;01min\u001B[39;00m completed:\n\u001B[0;32m--> 100\u001B[0m                         f\u001B[38;5;241m.\u001B[39mresult()\n\u001B[1;32m    102\u001B[0m                 futures\u001B[38;5;241m.\u001B[39madd(\n\u001B[1;32m    103\u001B[0m                     executor\u001B[38;5;241m.\u001B[39msubmit(\n\u001B[1;32m    104\u001B[0m                         _optimize_sequential,\n\u001B[0;32m   (...)\u001B[0m\n\u001B[1;32m    115\u001B[0m                     )\n\u001B[1;32m    116\u001B[0m                 )\n\u001B[1;32m    117\u001B[0m \u001B[38;5;28;01mfinally\u001B[39;00m:\n",
      "File \u001B[0;32m~/anaconda3/lib/python3.12/concurrent/futures/_base.py:449\u001B[0m, in \u001B[0;36mFuture.result\u001B[0;34m(self, timeout)\u001B[0m\n\u001B[1;32m    447\u001B[0m     \u001B[38;5;28;01mraise\u001B[39;00m CancelledError()\n\u001B[1;32m    448\u001B[0m \u001B[38;5;28;01melif\u001B[39;00m \u001B[38;5;28mself\u001B[39m\u001B[38;5;241m.\u001B[39m_state \u001B[38;5;241m==\u001B[39m FINISHED:\n\u001B[0;32m--> 449\u001B[0m     \u001B[38;5;28;01mreturn\u001B[39;00m \u001B[38;5;28mself\u001B[39m\u001B[38;5;241m.\u001B[39m__get_result()\n\u001B[1;32m    451\u001B[0m \u001B[38;5;28mself\u001B[39m\u001B[38;5;241m.\u001B[39m_condition\u001B[38;5;241m.\u001B[39mwait(timeout)\n\u001B[1;32m    453\u001B[0m \u001B[38;5;28;01mif\u001B[39;00m \u001B[38;5;28mself\u001B[39m\u001B[38;5;241m.\u001B[39m_state \u001B[38;5;129;01min\u001B[39;00m [CANCELLED, CANCELLED_AND_NOTIFIED]:\n",
      "File \u001B[0;32m~/anaconda3/lib/python3.12/concurrent/futures/_base.py:401\u001B[0m, in \u001B[0;36mFuture.__get_result\u001B[0;34m(self)\u001B[0m\n\u001B[1;32m    399\u001B[0m \u001B[38;5;28;01mif\u001B[39;00m \u001B[38;5;28mself\u001B[39m\u001B[38;5;241m.\u001B[39m_exception:\n\u001B[1;32m    400\u001B[0m     \u001B[38;5;28;01mtry\u001B[39;00m:\n\u001B[0;32m--> 401\u001B[0m         \u001B[38;5;28;01mraise\u001B[39;00m \u001B[38;5;28mself\u001B[39m\u001B[38;5;241m.\u001B[39m_exception\n\u001B[1;32m    402\u001B[0m     \u001B[38;5;28;01mfinally\u001B[39;00m:\n\u001B[1;32m    403\u001B[0m         \u001B[38;5;66;03m# Break a reference cycle with the exception in self._exception\u001B[39;00m\n\u001B[1;32m    404\u001B[0m         \u001B[38;5;28mself\u001B[39m \u001B[38;5;241m=\u001B[39m \u001B[38;5;28;01mNone\u001B[39;00m\n",
      "File \u001B[0;32m~/anaconda3/lib/python3.12/concurrent/futures/thread.py:58\u001B[0m, in \u001B[0;36m_WorkItem.run\u001B[0;34m(self)\u001B[0m\n\u001B[1;32m     55\u001B[0m     \u001B[38;5;28;01mreturn\u001B[39;00m\n\u001B[1;32m     57\u001B[0m \u001B[38;5;28;01mtry\u001B[39;00m:\n\u001B[0;32m---> 58\u001B[0m     result \u001B[38;5;241m=\u001B[39m \u001B[38;5;28mself\u001B[39m\u001B[38;5;241m.\u001B[39mfn(\u001B[38;5;241m*\u001B[39m\u001B[38;5;28mself\u001B[39m\u001B[38;5;241m.\u001B[39margs, \u001B[38;5;241m*\u001B[39m\u001B[38;5;241m*\u001B[39m\u001B[38;5;28mself\u001B[39m\u001B[38;5;241m.\u001B[39mkwargs)\n\u001B[1;32m     59\u001B[0m \u001B[38;5;28;01mexcept\u001B[39;00m \u001B[38;5;167;01mBaseException\u001B[39;00m \u001B[38;5;28;01mas\u001B[39;00m exc:\n\u001B[1;32m     60\u001B[0m     \u001B[38;5;28mself\u001B[39m\u001B[38;5;241m.\u001B[39mfuture\u001B[38;5;241m.\u001B[39mset_exception(exc)\n",
      "File \u001B[0;32m~/anaconda3/lib/python3.12/site-packages/optuna/study/_optimize.py:160\u001B[0m, in \u001B[0;36m_optimize_sequential\u001B[0;34m(study, func, n_trials, timeout, catch, callbacks, gc_after_trial, reseed_sampler_rng, time_start, progress_bar)\u001B[0m\n\u001B[1;32m    157\u001B[0m         \u001B[38;5;28;01mbreak\u001B[39;00m\n\u001B[1;32m    159\u001B[0m \u001B[38;5;28;01mtry\u001B[39;00m:\n\u001B[0;32m--> 160\u001B[0m     frozen_trial \u001B[38;5;241m=\u001B[39m _run_trial(study, func, catch)\n\u001B[1;32m    161\u001B[0m \u001B[38;5;28;01mfinally\u001B[39;00m:\n\u001B[1;32m    162\u001B[0m     \u001B[38;5;66;03m# The following line mitigates memory problems that can be occurred in some\u001B[39;00m\n\u001B[1;32m    163\u001B[0m     \u001B[38;5;66;03m# environments (e.g., services that use computing containers such as GitHub Actions).\u001B[39;00m\n\u001B[1;32m    164\u001B[0m     \u001B[38;5;66;03m# Please refer to the following PR for further details:\u001B[39;00m\n\u001B[1;32m    165\u001B[0m     \u001B[38;5;66;03m# https://github.com/optuna/optuna/pull/325.\u001B[39;00m\n\u001B[1;32m    166\u001B[0m     \u001B[38;5;28;01mif\u001B[39;00m gc_after_trial:\n",
      "File \u001B[0;32m~/anaconda3/lib/python3.12/site-packages/optuna/study/_optimize.py:248\u001B[0m, in \u001B[0;36m_run_trial\u001B[0;34m(study, func, catch)\u001B[0m\n\u001B[1;32m    241\u001B[0m         \u001B[38;5;28;01massert\u001B[39;00m \u001B[38;5;28;01mFalse\u001B[39;00m, \u001B[38;5;124m\"\u001B[39m\u001B[38;5;124mShould not reach.\u001B[39m\u001B[38;5;124m\"\u001B[39m\n\u001B[1;32m    243\u001B[0m \u001B[38;5;28;01mif\u001B[39;00m (\n\u001B[1;32m    244\u001B[0m     frozen_trial\u001B[38;5;241m.\u001B[39mstate \u001B[38;5;241m==\u001B[39m TrialState\u001B[38;5;241m.\u001B[39mFAIL\n\u001B[1;32m    245\u001B[0m     \u001B[38;5;129;01mand\u001B[39;00m func_err \u001B[38;5;129;01mis\u001B[39;00m \u001B[38;5;129;01mnot\u001B[39;00m \u001B[38;5;28;01mNone\u001B[39;00m\n\u001B[1;32m    246\u001B[0m     \u001B[38;5;129;01mand\u001B[39;00m \u001B[38;5;129;01mnot\u001B[39;00m \u001B[38;5;28misinstance\u001B[39m(func_err, catch)\n\u001B[1;32m    247\u001B[0m ):\n\u001B[0;32m--> 248\u001B[0m     \u001B[38;5;28;01mraise\u001B[39;00m func_err\n\u001B[1;32m    249\u001B[0m \u001B[38;5;28;01mreturn\u001B[39;00m frozen_trial\n",
      "File \u001B[0;32m~/anaconda3/lib/python3.12/site-packages/optuna/study/_optimize.py:197\u001B[0m, in \u001B[0;36m_run_trial\u001B[0;34m(study, func, catch)\u001B[0m\n\u001B[1;32m    195\u001B[0m \u001B[38;5;28;01mwith\u001B[39;00m get_heartbeat_thread(trial\u001B[38;5;241m.\u001B[39m_trial_id, study\u001B[38;5;241m.\u001B[39m_storage):\n\u001B[1;32m    196\u001B[0m     \u001B[38;5;28;01mtry\u001B[39;00m:\n\u001B[0;32m--> 197\u001B[0m         value_or_values \u001B[38;5;241m=\u001B[39m func(trial)\n\u001B[1;32m    198\u001B[0m     \u001B[38;5;28;01mexcept\u001B[39;00m exceptions\u001B[38;5;241m.\u001B[39mTrialPruned \u001B[38;5;28;01mas\u001B[39;00m e:\n\u001B[1;32m    199\u001B[0m         \u001B[38;5;66;03m# TODO(mamu): Handle multi-objective cases.\u001B[39;00m\n\u001B[1;32m    200\u001B[0m         state \u001B[38;5;241m=\u001B[39m TrialState\u001B[38;5;241m.\u001B[39mPRUNED\n",
      "File \u001B[0;32m~/UpperDivision/PycharmProjects/Project4House/objectiveOpt.py:106\u001B[0m, in \u001B[0;36mobjective\u001B[0;34m(trial)\u001B[0m\n\u001B[1;32m    103\u001B[0m test_processed \u001B[38;5;241m=\u001B[39m preprocessor\u001B[38;5;241m.\u001B[39mtransform(test)\n\u001B[1;32m    105\u001B[0m \u001B[38;5;66;03m# Split processed training data for validation\u001B[39;00m\n\u001B[0;32m--> 106\u001B[0m X_train, X_valid, y_train, y_valid \u001B[38;5;241m=\u001B[39m train_test_split(train_processed, train_target, test_size\u001B[38;5;241m=\u001B[39m\u001B[38;5;241m0.2\u001B[39m,\n\u001B[1;32m    107\u001B[0m                                                       random_state\u001B[38;5;241m=\u001B[39m\u001B[38;5;241m723894576082367\u001B[39m)\n\u001B[1;32m    108\u001B[0m \u001B[38;5;66;03m# Tree-based Parameters\u001B[39;00m\n\u001B[1;32m    109\u001B[0m params \u001B[38;5;241m=\u001B[39m {\n\u001B[1;32m    110\u001B[0m     \u001B[38;5;124m'\u001B[39m\u001B[38;5;124mmax_depth\u001B[39m\u001B[38;5;124m'\u001B[39m: trial\u001B[38;5;241m.\u001B[39msuggest_int(\u001B[38;5;124m'\u001B[39m\u001B[38;5;124mmax_depth\u001B[39m\u001B[38;5;124m'\u001B[39m, \u001B[38;5;241m3\u001B[39m, \u001B[38;5;241m12\u001B[39m),\n\u001B[1;32m    111\u001B[0m     \u001B[38;5;124m'\u001B[39m\u001B[38;5;124mmin_child_weight\u001B[39m\u001B[38;5;124m'\u001B[39m: trial\u001B[38;5;241m.\u001B[39msuggest_float(\u001B[38;5;124m'\u001B[39m\u001B[38;5;124mmin_child_weight\u001B[39m\u001B[38;5;124m'\u001B[39m, \u001B[38;5;241m1\u001B[39m, \u001B[38;5;241m7\u001B[39m),\n\u001B[0;32m   (...)\u001B[0m\n\u001B[1;32m    131\u001B[0m     \u001B[38;5;124m'\u001B[39m\u001B[38;5;124mdevice\u001B[39m\u001B[38;5;124m'\u001B[39m: \u001B[38;5;124m'\u001B[39m\u001B[38;5;124mcuda\u001B[39m\u001B[38;5;124m'\u001B[39m\n\u001B[1;32m    132\u001B[0m }\n",
      "File \u001B[0;32m~/anaconda3/lib/python3.12/site-packages/sklearn/utils/_param_validation.py:203\u001B[0m, in \u001B[0;36mvalidate_params.<locals>.decorator.<locals>.wrapper\u001B[0;34m(*args, **kwargs)\u001B[0m\n\u001B[1;32m    200\u001B[0m to_ignore \u001B[38;5;241m+\u001B[39m\u001B[38;5;241m=\u001B[39m [\u001B[38;5;124m\"\u001B[39m\u001B[38;5;124mself\u001B[39m\u001B[38;5;124m\"\u001B[39m, \u001B[38;5;124m\"\u001B[39m\u001B[38;5;124mcls\u001B[39m\u001B[38;5;124m\"\u001B[39m]\n\u001B[1;32m    201\u001B[0m params \u001B[38;5;241m=\u001B[39m {k: v \u001B[38;5;28;01mfor\u001B[39;00m k, v \u001B[38;5;129;01min\u001B[39;00m params\u001B[38;5;241m.\u001B[39marguments\u001B[38;5;241m.\u001B[39mitems() \u001B[38;5;28;01mif\u001B[39;00m k \u001B[38;5;129;01mnot\u001B[39;00m \u001B[38;5;129;01min\u001B[39;00m to_ignore}\n\u001B[0;32m--> 203\u001B[0m validate_parameter_constraints(\n\u001B[1;32m    204\u001B[0m     parameter_constraints, params, caller_name\u001B[38;5;241m=\u001B[39mfunc\u001B[38;5;241m.\u001B[39m\u001B[38;5;18m__qualname__\u001B[39m\n\u001B[1;32m    205\u001B[0m )\n\u001B[1;32m    207\u001B[0m \u001B[38;5;28;01mtry\u001B[39;00m:\n\u001B[1;32m    208\u001B[0m     \u001B[38;5;28;01mwith\u001B[39;00m config_context(\n\u001B[1;32m    209\u001B[0m         skip_parameter_validation\u001B[38;5;241m=\u001B[39m(\n\u001B[1;32m    210\u001B[0m             prefer_skip_nested_validation \u001B[38;5;129;01mor\u001B[39;00m global_skip_validation\n\u001B[1;32m    211\u001B[0m         )\n\u001B[1;32m    212\u001B[0m     ):\n",
      "File \u001B[0;32m~/anaconda3/lib/python3.12/site-packages/sklearn/utils/_param_validation.py:95\u001B[0m, in \u001B[0;36mvalidate_parameter_constraints\u001B[0;34m(parameter_constraints, params, caller_name)\u001B[0m\n\u001B[1;32m     89\u001B[0m \u001B[38;5;28;01melse\u001B[39;00m:\n\u001B[1;32m     90\u001B[0m     constraints_str \u001B[38;5;241m=\u001B[39m (\n\u001B[1;32m     91\u001B[0m         \u001B[38;5;124mf\u001B[39m\u001B[38;5;124m\"\u001B[39m\u001B[38;5;132;01m{\u001B[39;00m\u001B[38;5;124m'\u001B[39m\u001B[38;5;124m, \u001B[39m\u001B[38;5;124m'\u001B[39m\u001B[38;5;241m.\u001B[39mjoin([\u001B[38;5;28mstr\u001B[39m(c)\u001B[38;5;250m \u001B[39m\u001B[38;5;28;01mfor\u001B[39;00m\u001B[38;5;250m \u001B[39mc\u001B[38;5;250m \u001B[39m\u001B[38;5;129;01min\u001B[39;00m\u001B[38;5;250m \u001B[39mconstraints[:\u001B[38;5;241m-\u001B[39m\u001B[38;5;241m1\u001B[39m]])\u001B[38;5;132;01m}\u001B[39;00m\u001B[38;5;124m or\u001B[39m\u001B[38;5;124m\"\u001B[39m\n\u001B[1;32m     92\u001B[0m         \u001B[38;5;124mf\u001B[39m\u001B[38;5;124m\"\u001B[39m\u001B[38;5;124m \u001B[39m\u001B[38;5;132;01m{\u001B[39;00mconstraints[\u001B[38;5;241m-\u001B[39m\u001B[38;5;241m1\u001B[39m]\u001B[38;5;132;01m}\u001B[39;00m\u001B[38;5;124m\"\u001B[39m\n\u001B[1;32m     93\u001B[0m     )\n\u001B[0;32m---> 95\u001B[0m \u001B[38;5;28;01mraise\u001B[39;00m InvalidParameterError(\n\u001B[1;32m     96\u001B[0m     \u001B[38;5;124mf\u001B[39m\u001B[38;5;124m\"\u001B[39m\u001B[38;5;124mThe \u001B[39m\u001B[38;5;132;01m{\u001B[39;00mparam_name\u001B[38;5;132;01m!r}\u001B[39;00m\u001B[38;5;124m parameter of \u001B[39m\u001B[38;5;132;01m{\u001B[39;00mcaller_name\u001B[38;5;132;01m}\u001B[39;00m\u001B[38;5;124m must be\u001B[39m\u001B[38;5;124m\"\u001B[39m\n\u001B[1;32m     97\u001B[0m     \u001B[38;5;124mf\u001B[39m\u001B[38;5;124m\"\u001B[39m\u001B[38;5;124m \u001B[39m\u001B[38;5;132;01m{\u001B[39;00mconstraints_str\u001B[38;5;132;01m}\u001B[39;00m\u001B[38;5;124m. Got \u001B[39m\u001B[38;5;132;01m{\u001B[39;00mparam_val\u001B[38;5;132;01m!r}\u001B[39;00m\u001B[38;5;124m instead.\u001B[39m\u001B[38;5;124m\"\u001B[39m\n\u001B[1;32m     98\u001B[0m )\n",
      "\u001B[0;31mInvalidParameterError\u001B[0m: The 'random_state' parameter of train_test_split must be an int in the range [0, 4294967295], an instance of 'numpy.random.mtrand.RandomState' or None. Got 723894576082367 instead."
     ]
    }
   ],
   "execution_count": 13
  },
  {
   "metadata": {},
   "cell_type": "code",
   "source": [
    "final_model = XGBRegressor(**params)\n",
    "final_model.fit(X_train, y_train)\n",
    "predictions = final_model.predict(test_processed)\n",
    "final_pred = pd.DataFrame(predictions)\n",
    "submission = pd.concat([test_ids, final_pred], axis=1)\n",
    "submission.to_csv('submissions/submission.csv', index=False)"
   ],
   "id": "b41bdd11a9dbc64c",
   "outputs": [],
   "execution_count": null
  }
 ],
 "metadata": {
  "kernelspec": {
   "display_name": "Python 3",
   "language": "python",
   "name": "python3"
  },
  "language_info": {
   "codemirror_mode": {
    "name": "ipython",
    "version": 2
   },
   "file_extension": ".py",
   "mimetype": "text/x-python",
   "name": "python",
   "nbconvert_exporter": "python",
   "pygments_lexer": "ipython2",
   "version": "2.7.6"
  }
 },
 "nbformat": 4,
 "nbformat_minor": 5
}
